{
 "cells": [
  {
   "cell_type": "code",
   "execution_count": null,
   "metadata": {},
   "outputs": [],
   "source": [
    "# Function to calculate CGPA\n",
    "def calculate_cgpa(courses):\n",
    "    total_credit_hours = 0\n",
    "    weighted_sum = 0\n",
    "\n",
    "    # Iterate through each course\n",
    "    for course in courses:\n",
    "        credit_hours = course['credit_hours']\n",
    "        grade_points = course['grade_points']\n",
    "\n",
    "        # Calculate total credit hours and weighted sum of grade points\n",
    "        total_credit_hours += credit_hours\n",
    "        weighted_sum += credit_hours * grade_points\n",
    "\n",
    "    # Calculate CGPA\n",
    "    cgpa = weighted_sum / total_credit_hours\n",
    "    return cgpa\n",
    "\n",
    "\n",
    "# Input: number of courses\n",
    "num_courses = int(input(\"Enter the number of courses: \"))\n",
    "\n",
    "# List to hold course information\n",
    "courses = []\n",
    "\n",
    "# Get credit hours and grade points for each course\n",
    "for i in range(num_courses):\n",
    "    print(f\"Enter details for course {i + 1}:\")\n",
    "    credit_hours = float(input(\"Credit hours: \"))\n",
    "    grade_points = float(input(\"Grade points (e.g., 4.0 for A): \"))\n",
    "\n",
    "    # Store course details in a dictionary and add to the courses list\n",
    "    courses.append({\n",
    "        'credit_hours': credit_hours,\n",
    "        'grade_points': grade_points\n",
    "    })\n",
    "\n",
    "# Calculate CGPA\n",
    "cgpa = calculate_cgpa(courses)\n",
    "\n",
    "# Display the CGPA\n",
    "print(f\"Your CGPA is: {cgpa:.2f}\")\n"
   ]
  }
 ],
 "metadata": {
  "language_info": {
   "name": "python"
  }
 },
 "nbformat": 4,
 "nbformat_minor": 2
}
